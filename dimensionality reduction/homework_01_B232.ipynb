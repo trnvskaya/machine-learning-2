{
 "cells": [
  {
   "cell_type": "markdown",
   "metadata": {},
   "source": [
    "# Úkol č. 1 - redukce dimenzionality a binární klasifikace\n",
    "\n",
    "  * **Deadline je 22. 4. 2024, 23:59:59**, pokud odevzdáte úkol do 29. 4. 2024, 23:59:59, budete penalizování -12 body, pozdější odevzdání je bez bodu.\n",
    "  * V rámci tohoto úkolu se musíte vypořádat s vysokou dimenzí problému a poté úspěšně aplikovat vhodný klasfikační model.\n",
    "    \n",
    "> **Úkoly jsou zadány tak, aby Vám daly prostor pro invenci. Vymyslet _jak přesně_ budete úkol řešit, je důležitou součástí zadání a originalita či nápaditost bude také hodnocena!**\n",
    "\n",
    "Využívejte buňky typu `Markdown` k vysvětlování Vašeho postupu. Za nepřehlednost budou strhávány body.\n",
    "\n",
    "## Zdroj dat\n",
    "\n",
    " * Zdrojem dat jsou soubory `train.csv` a `evaluate.csv`.\n",
    " * Jedná se o obrázky 28x28 pixelů ve stupních šedi, které byly získány z [Fashion Mnist datasetu](https://www.kaggle.com/datasets/zalando-research/fashionmnist).\n",
    " * Soubor `train.csv` obsahuje trénovací data.\n",
    " * Cílová (vysvětlovaná) proměnná se jmenuje **label**.\n",
    " * Soubor `evaluate.csv` obsahuje testovací data bez hodnot skutečných labelů.\n",
    "\n",
    "## Pokyny k vypracování\n",
    "\n",
    "**Body zadání**, za jejichž (poctivé) vypracování získáte **25 bodů**:\n",
    "  * V notebooku načtěte data ze souboru `train.csv`. Vhodným způsobem si je rozdělte na podmnožiny, které Vám poslouží pro trénování, porovnávání modelů a následnou predikci výkonnosti finálního modelu. +\n",
    "  * Proveďte základní průzkum dat a svá pozorování diskutujte. Některé obrázky také zobrazte. +\n",
    "  * Postupně aplikujte modely **SVM**, **naivní Bayesův klasifikátor** a **LDA**, přičemž pro každý z nich: +\n",
    "      * Okomentujte vhodnost daného modelu pro daný typ úlohy.\n",
    "      * Vyberte si hlavní hyperparametry k ladění (pokud model má hyperparametry) a najděte jejich nejlepší hodnoty.\n",
    "      * Experimentujte se standardizací/normalizací dat.\n",
    "      * U SVM vyzkoušejte alespoň dvě různé jádrové funkce.\n",
    "      * Získané výsledky vždy řádně okomentujte.\n",
    "\n",
    "\n",
    "  * Postupně aplikujte metody redukce dimenzionality PCA a LLE, přičemž pro každou z nich: +\n",
    "      * Zopakujte předchozí kroky a pokuste modely vylepšit\n",
    "      * Zkoumejte jaká dimenze je z hlediska výkonnosti finálního modelu nejlepší.\n",
    "      * Získané výsledky vždy řádně okomentujte.\n",
    "    \n",
    "  * Ze všech zkoušených možností vyberte finální model a odhadněte, jakou přesnost můžete očekávat na nových datech, která jste doposud neměli k dispozici.+\n",
    "  \n",
    "  * Nakonec načtěte vyhodnocovací data ze souboru`evaluate.csv`. Pomocí finálního modelu napočítejte predikce pro tyto data (vysvětlovaná proměnná v nich již není). Vytvořte soubor `results.csv`, ve kterém získané predikce uložíte do sloupce **label** a identifikátory do sloupce **ID**. Tento soubor též odevzdejte (uložte do projektu vedle notebooku).\n",
    "   \n",
    "   * Ukázka prvních řádků souboru `results.csv`:\n",
    "  \n",
    "```\n",
    "ID,label\n",
    "0,0\n",
    "1,1\n",
    "...\n",
    "```\n",
    "\n",
    "## Poznámky k odevzdání\n",
    "\n",
    "  * Řiďte se pokyny ze stránky https://courses.fit.cvut.cz/BI-ML2/homeworks/index.html.\n",
    "  * Vytvořte i csv soubor `results.csv` s predikcemi a uložte ho v rámci projektu vedle ipython notebooku."
   ]
  },
  {
   "cell_type": "markdown",
   "metadata": {},
   "source": [
    "### **Analysis**"
   ]
  },
  {
   "cell_type": "code",
   "execution_count": 1,
   "metadata": {
    "ExecuteTime": {
     "end_time": "2025-01-27T17:42:29.934767Z",
     "start_time": "2025-01-27T17:42:29.927193Z"
    }
   },
   "outputs": [],
   "source": [
    "import numpy as np\n",
    "import pandas as pd\n",
    "import matplotlib.pyplot as plt\n",
    "from sklearn.model_selection import train_test_split"
   ]
  },
  {
   "cell_type": "markdown",
   "metadata": {},
   "source": [
    "reading data from `train.csv`"
   ]
  },
  {
   "cell_type": "code",
   "execution_count": 2,
   "metadata": {
    "ExecuteTime": {
     "end_time": "2025-01-27T17:43:00.619065Z",
     "start_time": "2025-01-27T17:43:00.423140Z"
    }
   },
   "outputs": [],
   "source": [
    "train_data = pd.read_csv('train2023.csv')"
   ]
  },
  {
   "cell_type": "markdown",
   "metadata": {},
   "source": [
    "looking at the dataset"
   ]
  },
  {
   "cell_type": "code",
   "execution_count": 3,
   "metadata": {},
   "outputs": [
    {
     "data": {
      "text/html": [
       "<div>\n",
       "<style scoped>\n",
       "    .dataframe tbody tr th:only-of-type {\n",
       "        vertical-align: middle;\n",
       "    }\n",
       "\n",
       "    .dataframe tbody tr th {\n",
       "        vertical-align: top;\n",
       "    }\n",
       "\n",
       "    .dataframe thead th {\n",
       "        text-align: right;\n",
       "    }\n",
       "</style>\n",
       "<table border=\"1\" class=\"dataframe\">\n",
       "  <thead>\n",
       "    <tr style=\"text-align: right;\">\n",
       "      <th></th>\n",
       "      <th>label</th>\n",
       "      <th>pixel1</th>\n",
       "      <th>pixel2</th>\n",
       "      <th>pixel3</th>\n",
       "      <th>pixel4</th>\n",
       "      <th>pixel5</th>\n",
       "      <th>pixel6</th>\n",
       "      <th>pixel7</th>\n",
       "      <th>pixel8</th>\n",
       "      <th>pixel9</th>\n",
       "      <th>...</th>\n",
       "      <th>pixel775</th>\n",
       "      <th>pixel776</th>\n",
       "      <th>pixel777</th>\n",
       "      <th>pixel778</th>\n",
       "      <th>pixel779</th>\n",
       "      <th>pixel780</th>\n",
       "      <th>pixel781</th>\n",
       "      <th>pixel782</th>\n",
       "      <th>pixel783</th>\n",
       "      <th>pixel784</th>\n",
       "    </tr>\n",
       "  </thead>\n",
       "  <tbody>\n",
       "    <tr>\n",
       "      <th>count</th>\n",
       "      <td>2400.000000</td>\n",
       "      <td>2400.0</td>\n",
       "      <td>2400.0</td>\n",
       "      <td>2400.0</td>\n",
       "      <td>2400.000000</td>\n",
       "      <td>2400.000000</td>\n",
       "      <td>2400.000000</td>\n",
       "      <td>2400.000000</td>\n",
       "      <td>2400.000000</td>\n",
       "      <td>2400.000000</td>\n",
       "      <td>...</td>\n",
       "      <td>2400.000000</td>\n",
       "      <td>2400.000000</td>\n",
       "      <td>2400.000000</td>\n",
       "      <td>2400.000000</td>\n",
       "      <td>2400.000000</td>\n",
       "      <td>2400.000000</td>\n",
       "      <td>2400.00000</td>\n",
       "      <td>2400.000000</td>\n",
       "      <td>2400.000000</td>\n",
       "      <td>2400.0</td>\n",
       "    </tr>\n",
       "    <tr>\n",
       "      <th>mean</th>\n",
       "      <td>0.484167</td>\n",
       "      <td>0.0</td>\n",
       "      <td>0.0</td>\n",
       "      <td>0.0</td>\n",
       "      <td>0.002083</td>\n",
       "      <td>0.098333</td>\n",
       "      <td>0.302500</td>\n",
       "      <td>0.846250</td>\n",
       "      <td>2.256250</td>\n",
       "      <td>6.025000</td>\n",
       "      <td>...</td>\n",
       "      <td>65.379583</td>\n",
       "      <td>26.975417</td>\n",
       "      <td>9.651667</td>\n",
       "      <td>3.307500</td>\n",
       "      <td>1.249167</td>\n",
       "      <td>0.460417</td>\n",
       "      <td>0.11250</td>\n",
       "      <td>0.038750</td>\n",
       "      <td>0.010833</td>\n",
       "      <td>0.0</td>\n",
       "    </tr>\n",
       "    <tr>\n",
       "      <th>std</th>\n",
       "      <td>0.499853</td>\n",
       "      <td>0.0</td>\n",
       "      <td>0.0</td>\n",
       "      <td>0.0</td>\n",
       "      <td>0.067682</td>\n",
       "      <td>1.895871</td>\n",
       "      <td>5.014792</td>\n",
       "      <td>9.262155</td>\n",
       "      <td>15.491603</td>\n",
       "      <td>25.358871</td>\n",
       "      <td>...</td>\n",
       "      <td>66.874570</td>\n",
       "      <td>49.060424</td>\n",
       "      <td>30.540885</td>\n",
       "      <td>18.067668</td>\n",
       "      <td>11.443957</td>\n",
       "      <td>6.363199</td>\n",
       "      <td>2.82043</td>\n",
       "      <td>1.742655</td>\n",
       "      <td>0.530723</td>\n",
       "      <td>0.0</td>\n",
       "    </tr>\n",
       "    <tr>\n",
       "      <th>min</th>\n",
       "      <td>0.000000</td>\n",
       "      <td>0.0</td>\n",
       "      <td>0.0</td>\n",
       "      <td>0.0</td>\n",
       "      <td>0.000000</td>\n",
       "      <td>0.000000</td>\n",
       "      <td>0.000000</td>\n",
       "      <td>0.000000</td>\n",
       "      <td>0.000000</td>\n",
       "      <td>0.000000</td>\n",
       "      <td>...</td>\n",
       "      <td>0.000000</td>\n",
       "      <td>0.000000</td>\n",
       "      <td>0.000000</td>\n",
       "      <td>0.000000</td>\n",
       "      <td>0.000000</td>\n",
       "      <td>0.000000</td>\n",
       "      <td>0.00000</td>\n",
       "      <td>0.000000</td>\n",
       "      <td>0.000000</td>\n",
       "      <td>0.0</td>\n",
       "    </tr>\n",
       "    <tr>\n",
       "      <th>25%</th>\n",
       "      <td>0.000000</td>\n",
       "      <td>0.0</td>\n",
       "      <td>0.0</td>\n",
       "      <td>0.0</td>\n",
       "      <td>0.000000</td>\n",
       "      <td>0.000000</td>\n",
       "      <td>0.000000</td>\n",
       "      <td>0.000000</td>\n",
       "      <td>0.000000</td>\n",
       "      <td>0.000000</td>\n",
       "      <td>...</td>\n",
       "      <td>0.000000</td>\n",
       "      <td>0.000000</td>\n",
       "      <td>0.000000</td>\n",
       "      <td>0.000000</td>\n",
       "      <td>0.000000</td>\n",
       "      <td>0.000000</td>\n",
       "      <td>0.00000</td>\n",
       "      <td>0.000000</td>\n",
       "      <td>0.000000</td>\n",
       "      <td>0.0</td>\n",
       "    </tr>\n",
       "    <tr>\n",
       "      <th>50%</th>\n",
       "      <td>0.000000</td>\n",
       "      <td>0.0</td>\n",
       "      <td>0.0</td>\n",
       "      <td>0.0</td>\n",
       "      <td>0.000000</td>\n",
       "      <td>0.000000</td>\n",
       "      <td>0.000000</td>\n",
       "      <td>0.000000</td>\n",
       "      <td>0.000000</td>\n",
       "      <td>0.000000</td>\n",
       "      <td>...</td>\n",
       "      <td>48.000000</td>\n",
       "      <td>0.000000</td>\n",
       "      <td>0.000000</td>\n",
       "      <td>0.000000</td>\n",
       "      <td>0.000000</td>\n",
       "      <td>0.000000</td>\n",
       "      <td>0.00000</td>\n",
       "      <td>0.000000</td>\n",
       "      <td>0.000000</td>\n",
       "      <td>0.0</td>\n",
       "    </tr>\n",
       "    <tr>\n",
       "      <th>75%</th>\n",
       "      <td>1.000000</td>\n",
       "      <td>0.0</td>\n",
       "      <td>0.0</td>\n",
       "      <td>0.0</td>\n",
       "      <td>0.000000</td>\n",
       "      <td>0.000000</td>\n",
       "      <td>0.000000</td>\n",
       "      <td>0.000000</td>\n",
       "      <td>0.000000</td>\n",
       "      <td>0.000000</td>\n",
       "      <td>...</td>\n",
       "      <td>114.250000</td>\n",
       "      <td>35.000000</td>\n",
       "      <td>0.000000</td>\n",
       "      <td>0.000000</td>\n",
       "      <td>0.000000</td>\n",
       "      <td>0.000000</td>\n",
       "      <td>0.00000</td>\n",
       "      <td>0.000000</td>\n",
       "      <td>0.000000</td>\n",
       "      <td>0.0</td>\n",
       "    </tr>\n",
       "    <tr>\n",
       "      <th>max</th>\n",
       "      <td>1.000000</td>\n",
       "      <td>0.0</td>\n",
       "      <td>0.0</td>\n",
       "      <td>0.0</td>\n",
       "      <td>3.000000</td>\n",
       "      <td>69.000000</td>\n",
       "      <td>188.000000</td>\n",
       "      <td>189.000000</td>\n",
       "      <td>219.000000</td>\n",
       "      <td>243.000000</td>\n",
       "      <td>...</td>\n",
       "      <td>248.000000</td>\n",
       "      <td>252.000000</td>\n",
       "      <td>246.000000</td>\n",
       "      <td>212.000000</td>\n",
       "      <td>179.000000</td>\n",
       "      <td>176.000000</td>\n",
       "      <td>88.00000</td>\n",
       "      <td>85.000000</td>\n",
       "      <td>26.000000</td>\n",
       "      <td>0.0</td>\n",
       "    </tr>\n",
       "  </tbody>\n",
       "</table>\n",
       "<p>8 rows × 785 columns</p>\n",
       "</div>"
      ],
      "text/plain": [
       "             label  pixel1  pixel2  pixel3       pixel4       pixel5  \\\n",
       "count  2400.000000  2400.0  2400.0  2400.0  2400.000000  2400.000000   \n",
       "mean      0.484167     0.0     0.0     0.0     0.002083     0.098333   \n",
       "std       0.499853     0.0     0.0     0.0     0.067682     1.895871   \n",
       "min       0.000000     0.0     0.0     0.0     0.000000     0.000000   \n",
       "25%       0.000000     0.0     0.0     0.0     0.000000     0.000000   \n",
       "50%       0.000000     0.0     0.0     0.0     0.000000     0.000000   \n",
       "75%       1.000000     0.0     0.0     0.0     0.000000     0.000000   \n",
       "max       1.000000     0.0     0.0     0.0     3.000000    69.000000   \n",
       "\n",
       "            pixel6       pixel7       pixel8       pixel9  ...     pixel775  \\\n",
       "count  2400.000000  2400.000000  2400.000000  2400.000000  ...  2400.000000   \n",
       "mean      0.302500     0.846250     2.256250     6.025000  ...    65.379583   \n",
       "std       5.014792     9.262155    15.491603    25.358871  ...    66.874570   \n",
       "min       0.000000     0.000000     0.000000     0.000000  ...     0.000000   \n",
       "25%       0.000000     0.000000     0.000000     0.000000  ...     0.000000   \n",
       "50%       0.000000     0.000000     0.000000     0.000000  ...    48.000000   \n",
       "75%       0.000000     0.000000     0.000000     0.000000  ...   114.250000   \n",
       "max     188.000000   189.000000   219.000000   243.000000  ...   248.000000   \n",
       "\n",
       "          pixel776     pixel777     pixel778     pixel779     pixel780  \\\n",
       "count  2400.000000  2400.000000  2400.000000  2400.000000  2400.000000   \n",
       "mean     26.975417     9.651667     3.307500     1.249167     0.460417   \n",
       "std      49.060424    30.540885    18.067668    11.443957     6.363199   \n",
       "min       0.000000     0.000000     0.000000     0.000000     0.000000   \n",
       "25%       0.000000     0.000000     0.000000     0.000000     0.000000   \n",
       "50%       0.000000     0.000000     0.000000     0.000000     0.000000   \n",
       "75%      35.000000     0.000000     0.000000     0.000000     0.000000   \n",
       "max     252.000000   246.000000   212.000000   179.000000   176.000000   \n",
       "\n",
       "         pixel781     pixel782     pixel783  pixel784  \n",
       "count  2400.00000  2400.000000  2400.000000    2400.0  \n",
       "mean      0.11250     0.038750     0.010833       0.0  \n",
       "std       2.82043     1.742655     0.530723       0.0  \n",
       "min       0.00000     0.000000     0.000000       0.0  \n",
       "25%       0.00000     0.000000     0.000000       0.0  \n",
       "50%       0.00000     0.000000     0.000000       0.0  \n",
       "75%       0.00000     0.000000     0.000000       0.0  \n",
       "max      88.00000    85.000000    26.000000       0.0  \n",
       "\n",
       "[8 rows x 785 columns]"
      ]
     },
     "execution_count": 3,
     "metadata": {},
     "output_type": "execute_result"
    }
   ],
   "source": [
    "train_data.describe()"
   ]
  },
  {
   "cell_type": "markdown",
   "metadata": {},
   "source": [
    "visualizing images based on label value (`images_per_value` images per label)"
   ]
  },
  {
   "cell_type": "code",
   "execution_count": 4,
   "metadata": {
    "ExecuteTime": {
     "end_time": "2025-01-27T18:17:04.053373Z",
     "start_time": "2025-01-27T18:17:02.122253Z"
    }
   },
   "outputs": [
    {
     "data": {
      "image/png": "[encoded data removed]",
      "text/plain": [
       "<Figure size 1500x500 with 22 Axes>"
      ]
     },
     "metadata": {},
     "output_type": "display_data"
    }
   ],
   "source": [
    "unique_labels = train_data['label'].unique()\n",
    "\n",
    "images_per_label = 11\n",
    "\n",
    "fig, axes = plt.subplots(nrows=len(unique_labels), ncols=images_per_label, figsize=(15,5))\n",
    "\n",
    "for r, label in enumerate(unique_labels):\n",
    "    label_data = train_data[train_data['label'] == label]\n",
    "\n",
    "    for c, image in enumerate(label_data.iloc[:images_per_label, 1:].values):\n",
    "        axes[r, c].imshow(image.reshape(28, 28), cmap='gray')\n",
    "        axes[r, c].axis('off')\n",
    "    axes[r, 5].set_title(f'Label: {label}')    "
   ]
  },
  {
   "cell_type": "markdown",
   "metadata": {},
   "source": [
    "The dataset contains images of clothing items, each 28x28 pixels in size. There are only two unique label values: **0** and **1**, where **1** represents tops, and **0** represents pants. *(Note: The original dataset linked includes additional labels for other types of clothing.)*\n",
    "\n",
    "The task is to train a model to predict the type of clothing with maximized accuracy, using the SVM, Naive Bayes, and LDA algorithms."
   ]
  },
  {
   "cell_type": "markdown",
   "metadata": {},
   "source": [
    "### **Data splitting**"
   ]
  },
  {
   "cell_type": "markdown",
   "metadata": {},
   "source": [
    "Splitting data into features (Xdata) and target (ydata)"
   ]
  },
  {
   "cell_type": "code",
   "execution_count": 5,
   "metadata": {
    "ExecuteTime": {
     "end_time": "2025-01-27T17:59:21.241490Z",
     "start_time": "2025-01-27T17:59:21.233285Z"
    }
   },
   "outputs": [],
   "source": [
    "Xdata = train_data.drop(columns=['label']).values\n",
    "ydata = train_data['label'].values"
   ]
  },
  {
   "cell_type": "markdown",
   "metadata": {},
   "source": [
    "Splitting the dataset into training and testing data"
   ]
  },
  {
   "cell_type": "code",
   "execution_count": 6,
   "metadata": {},
   "outputs": [],
   "source": [
    "Xtrain, Xtest, ytrain, ytest = train_test_split(Xdata, ydata, train_size=0.6, random_state=333)"
   ]
  },
  {
   "cell_type": "markdown",
   "metadata": {},
   "source": [
    "Splitting testing data in half for validation + testing"
   ]
  },
  {
   "cell_type": "code",
   "execution_count": 7,
   "metadata": {},
   "outputs": [],
   "source": [
    "Xval, Xtest, yval, ytest = train_test_split(Xtest, ytest, train_size=0.5, random_state=333)"
   ]
  },
  {
   "cell_type": "markdown",
   "metadata": {},
   "source": [
    "Looking at sizes of created datasets"
   ]
  },
  {
   "cell_type": "code",
   "execution_count": 8,
   "metadata": {},
   "outputs": [
    {
     "name": "stdout",
     "output_type": "stream",
     "text": [
      "(1440, 784)\n",
      "(480, 784)\n"
     ]
    }
   ],
   "source": [
    "print(Xtrain.shape)\n",
    "print(Xval.shape)"
   ]
  },
  {
   "cell_type": "markdown",
   "metadata": {},
   "source": [
    "### **Support Vector Machines (SVM)**"
   ]
  },
  {
   "cell_type": "markdown",
   "metadata": {},
   "source": [
    "SVM is highly effective for high-dimensional data like images, as it separates classes using a hyperplane. It handles non-linear relationships well (with kernels like RBF) and is robust to overfitting, especially when scaled features are used. Its ability to work with complex boundaries makes it ideal for image-based classification."
   ]
  },
  {
   "cell_type": "code",
   "execution_count": 9,
   "metadata": {},
   "outputs": [],
   "source": [
    "from sklearn.svm import SVC\n",
    "from sklearn.preprocessing import StandardScaler\n",
    "from sklearn.metrics import accuracy_score, classification_report\n",
    "from sklearn.model_selection import ParameterGrid"
   ]
  },
  {
   "cell_type": "markdown",
   "metadata": {},
   "source": [
    "We use a scaler for SVM because SVMs are sensitive to the scale of features. They rely on distances to determine the decision boundary, and unscaled features with larger magnitudes can dominate smaller ones, leading to biased results. Scaling ensures that all features contribute equally, improving accuracy, convergence, and performance."
   ]
  },
  {
   "cell_type": "code",
   "execution_count": 10,
   "metadata": {},
   "outputs": [],
   "source": [
    "scaler = StandardScaler()\n",
    "\n",
    "Xtrain_scaled = scaler.fit_transform(Xtrain)\n",
    "Xval_scaled = scaler.fit_transform(Xval)\n",
    "Xtest_scaled = scaler.fit_transform(Xtest)"
   ]
  },
  {
   "cell_type": "markdown",
   "metadata": {},
   "source": [
    "Tuning hyperparameters for SVM"
   ]
  },
  {
   "cell_type": "code",
   "execution_count": 11,
   "metadata": {},
   "outputs": [],
   "source": [
    "param_grid_svm = {\n",
    "    'C': [0.1, 1, 10, 20, 30, 50],\n",
    "    'kernel': ['linear', 'rbf', 'poly'],\n",
    "    'gamma': [1e-3, 1e-2, 0.1, 1, 10],\n",
    "    'degree': [2, 3, 5, 7]\n",
    "}\n",
    "param_comb_svm = ParameterGrid(param_grid_svm)\n",
    "\n",
    "val_acc_svm = []\n",
    "train_acc_svm = []\n",
    "\n",
    "for params in param_comb_svm:\n",
    "    if params['kernel'] != 'poly':\n",
    "        params.pop('degree', None)\n",
    "    svm = SVC(**params)\n",
    "    svm.fit(Xtrain_scaled, ytrain)\n",
    "    train_acc_svm.append(accuracy_score(ytrain, svm.predict(Xtrain_scaled)))\n",
    "    val_acc_svm.append(accuracy_score(yval, svm.predict(Xval_scaled)))"
   ]
  },
  {
   "cell_type": "code",
   "execution_count": 12,
   "metadata": {},
   "outputs": [],
   "source": [
    "best_params_svm = param_comb_svm[np.argmax(val_acc_svm)]"
   ]
  },
  {
   "cell_type": "markdown",
   "metadata": {},
   "source": [
    "Using the best hyperparameters (best_params_svm) from a previous grid search to train an SVM model"
   ]
  },
  {
   "cell_type": "code",
   "execution_count": 13,
   "metadata": {},
   "outputs": [],
   "source": [
    "best_svm = SVC(**best_params_svm)\n",
    "best_svm.fit(Xtrain_scaled, ytrain)\n",
    "y_train_pred_best_svm = best_svm.predict(Xtrain_scaled)\n",
    "best_svm_score_train = accuracy_score(ytrain, y_train_pred_best_svm)\n",
    "\n",
    "y_val_pred_best_svm = best_svm.predict(Xval_scaled)\n",
    "best_svm_score_val = accuracy_score(yval, y_val_pred_best_svm)"
   ]
  },
  {
   "cell_type": "code",
   "execution_count": 14,
   "metadata": {},
   "outputs": [
    {
     "name": "stdout",
     "output_type": "stream",
     "text": [
      "Training data accuracy score:  0.99861\n",
      "Validation data accuracy score:  0.98125\n"
     ]
    }
   ],
   "source": [
    "print(\"Training data accuracy score: \", round(best_svm_score_train, 5))\n",
    "print(\"Validation data accuracy score: \", round(best_svm_score_val, 5))"
   ]
  },
  {
   "cell_type": "markdown",
   "metadata": {},
   "source": [
    "### **Naive Bayes**"
   ]
  },
  {
   "cell_type": "markdown",
   "metadata": {},
   "source": [
    "Naive Bayes is a simple yet fast algorithm, suitable for datasets with clear probabilistic patterns. It assumes feature independence, which might not hold in image data, but it can still work well when data is binarized (e.g., BernoulliNB for binary pixel values). It's less computationally expensive but may be less accurate than SVM for complex data."
   ]
  },
  {
   "cell_type": "code",
   "execution_count": 15,
   "metadata": {},
   "outputs": [],
   "source": [
    "from sklearn.naive_bayes import CategoricalNB, BernoulliNB, MultinomialNB, GaussianNB"
   ]
  },
  {
   "cell_type": "markdown",
   "metadata": {},
   "source": [
    "- **CategoricalNB (CNB)**: Used for categorical data; `min_categories=256` ensures it can handle up to 256 unique values per feature, such as pixel intensities in binarized form.  \n",
    "- **BernoulliNB (BNB)**: Designed for binary data, making it suitable for binarized features where values are 0 or 1.  \n",
    "- **MultinomialNB (MNB)**: Handles discrete, frequency-based data like counts, making it ideal for integer-valued features such as pixel intensities.  "
   ]
  },
  {
   "cell_type": "code",
   "execution_count": 16,
   "metadata": {},
   "outputs": [],
   "source": [
    "cnb = CategoricalNB(min_categories=256)\n",
    "mnb = MultinomialNB()           "
   ]
  },
  {
   "cell_type": "code",
   "execution_count": 17,
   "metadata": {},
   "outputs": [
    {
     "data": {
      "text/html": [
       "<style>#sk-container-id-1 {\n",
       "  /* Definition of color scheme common for light and dark mode */\n",
       "  --sklearn-color-text: black;\n",
       "  --sklearn-color-line: gray;\n",
       "  /* Definition of color scheme for unfitted estimators */\n",
       "  --sklearn-color-unfitted-level-0: #fff5e6;\n",
       "  --sklearn-color-unfitted-level-1: #f6e4d2;\n",
       "  --sklearn-color-unfitted-level-2: #ffe0b3;\n",
       "  --sklearn-color-unfitted-level-3: chocolate;\n",
       "  /* Definition of color scheme for fitted estimators */\n",
       "  --sklearn-color-fitted-level-0: #f0f8ff;\n",
       "  --sklearn-color-fitted-level-1: #d4ebff;\n",
       "  --sklearn-color-fitted-level-2: #b3dbfd;\n",
       "  --sklearn-color-fitted-level-3: cornflowerblue;\n",
       "\n",
       "  /* Specific color for light theme */\n",
       "  --sklearn-color-text-on-default-background: var(--sg-text-color, var(--theme-code-foreground, var(--jp-content-font-color1, black)));\n",
       "  --sklearn-color-background: var(--sg-background-color, var(--theme-background, var(--jp-layout-color0, white)));\n",
       "  --sklearn-color-border-box: var(--sg-text-color, var(--theme-code-foreground, var(--jp-content-font-color1, black)));\n",
       "  --sklearn-color-icon: #696969;\n",
       "\n",
       "  @media (prefers-color-scheme: dark) {\n",
       "    /* Redefinition of color scheme for dark theme */\n",
       "    --sklearn-color-text-on-default-background: var(--sg-text-color, var(--theme-code-foreground, var(--jp-content-font-color1, white)));\n",
       "    --sklearn-color-background: var(--sg-background-color, var(--theme-background, var(--jp-layout-color0, #111)));\n",
       "    --sklearn-color-border-box: var(--sg-text-color, var(--theme-code-foreground, var(--jp-content-font-color1, white)));\n",
       "    --sklearn-color-icon: #878787;\n",
       "  }\n",
       "}\n",
       "\n",
       "#sk-container-id-1 {\n",
       "  color: var(--sklearn-color-text);\n",
       "}\n",
       "\n",
       "#sk-container-id-1 pre {\n",
       "  padding: 0;\n",
       "}\n",
       "\n",
       "#sk-container-id-1 input.sk-hidden--visually {\n",
       "  border: 0;\n",
       "  clip: rect(1px 1px 1px 1px);\n",
       "  clip: rect(1px, 1px, 1px, 1px);\n",
       "  height: 1px;\n",
       "  margin: -1px;\n",
       "  overflow: hidden;\n",
       "  padding: 0;\n",
       "  position: absolute;\n",
       "  width: 1px;\n",
       "}\n",
       "\n",
       "#sk-container-id-1 div.sk-dashed-wrapped {\n",
       "  border: 1px dashed var(--sklearn-color-line);\n",
       "  margin: 0 0.4em 0.5em 0.4em;\n",
       "  box-sizing: border-box;\n",
       "  padding-bottom: 0.4em;\n",
       "  background-color: var(--sklearn-color-background);\n",
       "}\n",
       "\n",
       "#sk-container-id-1 div.sk-container {\n",
       "  /* jupyter's `normalize.less` sets `[hidden] { display: none; }`\n",
       "     but bootstrap.min.css set `[hidden] { display: none !important; }`\n",
       "     so we also need the `!important` here to be able to override the\n",
       "     default hidden behavior on the sphinx rendered scikit-learn.org.\n",
       "     See: https://github.com/scikit-learn/scikit-learn/issues/21755 */\n",
       "  display: inline-block !important;\n",
       "  position: relative;\n",
       "}\n",
       "\n",
       "#sk-container-id-1 div.sk-text-repr-fallback {\n",
       "  display: none;\n",
       "}\n",
       "\n",
       "div.sk-parallel-item,\n",
       "div.sk-serial,\n",
       "div.sk-item {\n",
       "  /* draw centered vertical line to link estimators */\n",
       "  background-image: linear-gradient(var(--sklearn-color-text-on-default-background), var(--sklearn-color-text-on-default-background));\n",
       "  background-size: 2px 100%;\n",
       "  background-repeat: no-repeat;\n",
       "  background-position: center center;\n",
       "}\n",
       "\n",
       "/* Parallel-specific style estimator block */\n",
       "\n",
       "#sk-container-id-1 div.sk-parallel-item::after {\n",
       "  content: \"\";\n",
       "  width: 100%;\n",
       "  border-bottom: 2px solid var(--sklearn-color-text-on-default-background);\n",
       "  flex-grow: 1;\n",
       "}\n",
       "\n",
       "#sk-container-id-1 div.sk-parallel {\n",
       "  display: flex;\n",
       "  align-items: stretch;\n",
       "  justify-content: center;\n",
       "  background-color: var(--sklearn-color-background);\n",
       "  position: relative;\n",
       "}\n",
       "\n",
       "#sk-container-id-1 div.sk-parallel-item {\n",
       "  display: flex;\n",
       "  flex-direction: column;\n",
       "}\n",
       "\n",
       "#sk-container-id-1 div.sk-parallel-item:first-child::after {\n",
       "  align-self: flex-end;\n",
       "  width: 50%;\n",
       "}\n",
       "\n",
       "#sk-container-id-1 div.sk-parallel-item:last-child::after {\n",
       "  align-self: flex-start;\n",
       "  width: 50%;\n",
       "}\n",
       "\n",
       "#sk-container-id-1 div.sk-parallel-item:only-child::after {\n",
       "  width: 0;\n",
       "}\n",
       "\n",
       "/* Serial-specific style estimator block */\n",
       "\n",
       "#sk-container-id-1 div.sk-serial {\n",
       "  display: flex;\n",
       "  flex-direction: column;\n",
       "  align-items: center;\n",
       "  background-color: var(--sklearn-color-background);\n",
       "  padding-right: 1em;\n",
       "  padding-left: 1em;\n",
       "}\n",
       "\n",
       "\n",
       "/* Toggleable style: style used for estimator/Pipeline/ColumnTransformer box that is\n",
       "clickable and can be expanded/collapsed.\n",
       "- Pipeline and ColumnTransformer use this feature and define the default style\n",
       "- Estimators will overwrite some part of the style using the `sk-estimator` class\n",
       "*/\n",
       "\n",
       "/* Pipeline and ColumnTransformer style (default) */\n",
       "\n",
       "#sk-container-id-1 div.sk-toggleable {\n",
       "  /* Default theme specific background. It is overwritten whether we have a\n",
       "  specific estimator or a Pipeline/ColumnTransformer */\n",
       "  background-color: var(--sklearn-color-background);\n",
       "}\n",
       "\n",
       "/* Toggleable label */\n",
       "#sk-container-id-1 label.sk-toggleable__label {\n",
       "  cursor: pointer;\n",
       "  display: block;\n",
       "  width: 100%;\n",
       "  margin-bottom: 0;\n",
       "  padding: 0.5em;\n",
       "  box-sizing: border-box;\n",
       "  text-align: center;\n",
       "}\n",
       "\n",
       "#sk-container-id-1 label.sk-toggleable__label-arrow:before {\n",
       "  /* Arrow on the left of the label */\n",
       "  content: \"▸\";\n",
       "  float: left;\n",
       "  margin-right: 0.25em;\n",
       "  color: var(--sklearn-color-icon);\n",
       "}\n",
       "\n",
       "#sk-container-id-1 label.sk-toggleable__label-arrow:hover:before {\n",
       "  color: var(--sklearn-color-text);\n",
       "}\n",
       "\n",
       "/* Toggleable content - dropdown */\n",
       "\n",
       "#sk-container-id-1 div.sk-toggleable__content {\n",
       "  max-height: 0;\n",
       "  max-width: 0;\n",
       "  overflow: hidden;\n",
       "  text-align: left;\n",
       "  /* unfitted */\n",
       "  background-color: var(--sklearn-color-unfitted-level-0);\n",
       "}\n",
       "\n",
       "#sk-container-id-1 div.sk-toggleable__content.fitted {\n",
       "  /* fitted */\n",
       "  background-color: var(--sklearn-color-fitted-level-0);\n",
       "}\n",
       "\n",
       "#sk-container-id-1 div.sk-toggleable__content pre {\n",
       "  margin: 0.2em;\n",
       "  border-radius: 0.25em;\n",
       "  color: var(--sklearn-color-text);\n",
       "  /* unfitted */\n",
       "  background-color: var(--sklearn-color-unfitted-level-0);\n",
       "}\n",
       "\n",
       "#sk-container-id-1 div.sk-toggleable__content.fitted pre {\n",
       "  /* unfitted */\n",
       "  background-color: var(--sklearn-color-fitted-level-0);\n",
       "}\n",
       "\n",
       "#sk-container-id-1 input.sk-toggleable__control:checked~div.sk-toggleable__content {\n",
       "  /* Expand drop-down */\n",
       "  max-height: 200px;\n",
       "  max-width: 100%;\n",
       "  overflow: auto;\n",
       "}\n",
       "\n",
       "#sk-container-id-1 input.sk-toggleable__control:checked~label.sk-toggleable__label-arrow:before {\n",
       "  content: \"▾\";\n",
       "}\n",
       "\n",
       "/* Pipeline/ColumnTransformer-specific style */\n",
       "\n",
       "#sk-container-id-1 div.sk-label input.sk-toggleable__control:checked~label.sk-toggleable__label {\n",
       "  color: var(--sklearn-color-text);\n",
       "  background-color: var(--sklearn-color-unfitted-level-2);\n",
       "}\n",
       "\n",
       "#sk-container-id-1 div.sk-label.fitted input.sk-toggleable__control:checked~label.sk-toggleable__label {\n",
       "  background-color: var(--sklearn-color-fitted-level-2);\n",
       "}\n",
       "\n",
       "/* Estimator-specific style */\n",
       "\n",
       "/* Colorize estimator box */\n",
       "#sk-container-id-1 div.sk-estimator input.sk-toggleable__control:checked~label.sk-toggleable__label {\n",
       "  /* unfitted */\n",
       "  background-color: var(--sklearn-color-unfitted-level-2);\n",
       "}\n",
       "\n",
       "#sk-container-id-1 div.sk-estimator.fitted input.sk-toggleable__control:checked~label.sk-toggleable__label {\n",
       "  /* fitted */\n",
       "  background-color: var(--sklearn-color-fitted-level-2);\n",
       "}\n",
       "\n",
       "#sk-container-id-1 div.sk-label label.sk-toggleable__label,\n",
       "#sk-container-id-1 div.sk-label label {\n",
       "  /* The background is the default theme color */\n",
       "  color: var(--sklearn-color-text-on-default-background);\n",
       "}\n",
       "\n",
       "/* On hover, darken the color of the background */\n",
       "#sk-container-id-1 div.sk-label:hover label.sk-toggleable__label {\n",
       "  color: var(--sklearn-color-text);\n",
       "  background-color: var(--sklearn-color-unfitted-level-2);\n",
       "}\n",
       "\n",
       "/* Label box, darken color on hover, fitted */\n",
       "#sk-container-id-1 div.sk-label.fitted:hover label.sk-toggleable__label.fitted {\n",
       "  color: var(--sklearn-color-text);\n",
       "  background-color: var(--sklearn-color-fitted-level-2);\n",
       "}\n",
       "\n",
       "/* Estimator label */\n",
       "\n",
       "#sk-container-id-1 div.sk-label label {\n",
       "  font-family: monospace;\n",
       "  font-weight: bold;\n",
       "  display: inline-block;\n",
       "  line-height: 1.2em;\n",
       "}\n",
       "\n",
       "#sk-container-id-1 div.sk-label-container {\n",
       "  text-align: center;\n",
       "}\n",
       "\n",
       "/* Estimator-specific */\n",
       "#sk-container-id-1 div.sk-estimator {\n",
       "  font-family: monospace;\n",
       "  border: 1px dotted var(--sklearn-color-border-box);\n",
       "  border-radius: 0.25em;\n",
       "  box-sizing: border-box;\n",
       "  margin-bottom: 0.5em;\n",
       "  /* unfitted */\n",
       "  background-color: var(--sklearn-color-unfitted-level-0);\n",
       "}\n",
       "\n",
       "#sk-container-id-1 div.sk-estimator.fitted {\n",
       "  /* fitted */\n",
       "  background-color: var(--sklearn-color-fitted-level-0);\n",
       "}\n",
       "\n",
       "/* on hover */\n",
       "#sk-container-id-1 div.sk-estimator:hover {\n",
       "  /* unfitted */\n",
       "  background-color: var(--sklearn-color-unfitted-level-2);\n",
       "}\n",
       "\n",
       "#sk-container-id-1 div.sk-estimator.fitted:hover {\n",
       "  /* fitted */\n",
       "  background-color: var(--sklearn-color-fitted-level-2);\n",
       "}\n",
       "\n",
       "/* Specification for estimator info (e.g. \"i\" and \"?\") */\n",
       "\n",
       "/* Common style for \"i\" and \"?\" */\n",
       "\n",
       ".sk-estimator-doc-link,\n",
       "a:link.sk-estimator-doc-link,\n",
       "a:visited.sk-estimator-doc-link {\n",
       "  float: right;\n",
       "  font-size: smaller;\n",
       "  line-height: 1em;\n",
       "  font-family: monospace;\n",
       "  background-color: var(--sklearn-color-background);\n",
       "  border-radius: 1em;\n",
       "  height: 1em;\n",
       "  width: 1em;\n",
       "  text-decoration: none !important;\n",
       "  margin-left: 1ex;\n",
       "  /* unfitted */\n",
       "  border: var(--sklearn-color-unfitted-level-1) 1pt solid;\n",
       "  color: var(--sklearn-color-unfitted-level-1);\n",
       "}\n",
       "\n",
       ".sk-estimator-doc-link.fitted,\n",
       "a:link.sk-estimator-doc-link.fitted,\n",
       "a:visited.sk-estimator-doc-link.fitted {\n",
       "  /* fitted */\n",
       "  border: var(--sklearn-color-fitted-level-1) 1pt solid;\n",
       "  color: var(--sklearn-color-fitted-level-1);\n",
       "}\n",
       "\n",
       "/* On hover */\n",
       "div.sk-estimator:hover .sk-estimator-doc-link:hover,\n",
       ".sk-estimator-doc-link:hover,\n",
       "div.sk-label-container:hover .sk-estimator-doc-link:hover,\n",
       ".sk-estimator-doc-link:hover {\n",
       "  /* unfitted */\n",
       "  background-color: var(--sklearn-color-unfitted-level-3);\n",
       "  color: var(--sklearn-color-background);\n",
       "  text-decoration: none;\n",
       "}\n",
       "\n",
       "div.sk-estimator.fitted:hover .sk-estimator-doc-link.fitted:hover,\n",
       ".sk-estimator-doc-link.fitted:hover,\n",
       "div.sk-label-container:hover .sk-estimator-doc-link.fitted:hover,\n",
       ".sk-estimator-doc-link.fitted:hover {\n",
       "  /* fitted */\n",
       "  background-color: var(--sklearn-color-fitted-level-3);\n",
       "  color: var(--sklearn-color-background);\n",
       "  text-decoration: none;\n",
       "}\n",
       "\n",
       "/* Span, style for the box shown on hovering the info icon */\n",
       ".sk-estimator-doc-link span {\n",
       "  display: none;\n",
       "  z-index: 9999;\n",
       "  position: relative;\n",
       "  font-weight: normal;\n",
       "  right: .2ex;\n",
       "  padding: .5ex;\n",
       "  margin: .5ex;\n",
       "  width: min-content;\n",
       "  min-width: 20ex;\n",
       "  max-width: 50ex;\n",
       "  color: var(--sklearn-color-text);\n",
       "  box-shadow: 2pt 2pt 4pt #999;\n",
       "  /* unfitted */\n",
       "  background: var(--sklearn-color-unfitted-level-0);\n",
       "  border: .5pt solid var(--sklearn-color-unfitted-level-3);\n",
       "}\n",
       "\n",
       ".sk-estimator-doc-link.fitted span {\n",
       "  /* fitted */\n",
       "  background: var(--sklearn-color-fitted-level-0);\n",
       "  border: var(--sklearn-color-fitted-level-3);\n",
       "}\n",
       "\n",
       ".sk-estimator-doc-link:hover span {\n",
       "  display: block;\n",
       "}\n",
       "\n",
       "/* \"?\"-specific style due to the `<a>` HTML tag */\n",
       "\n",
       "#sk-container-id-1 a.estimator_doc_link {\n",
       "  float: right;\n",
       "  font-size: 1rem;\n",
       "  line-height: 1em;\n",
       "  font-family: monospace;\n",
       "  background-color: var(--sklearn-color-background);\n",
       "  border-radius: 1rem;\n",
       "  height: 1rem;\n",
       "  width: 1rem;\n",
       "  text-decoration: none;\n",
       "  /* unfitted */\n",
       "  color: var(--sklearn-color-unfitted-level-1);\n",
       "  border: var(--sklearn-color-unfitted-level-1) 1pt solid;\n",
       "}\n",
       "\n",
       "#sk-container-id-1 a.estimator_doc_link.fitted {\n",
       "  /* fitted */\n",
       "  border: var(--sklearn-color-fitted-level-1) 1pt solid;\n",
       "  color: var(--sklearn-color-fitted-level-1);\n",
       "}\n",
       "\n",
       "/* On hover */\n",
       "#sk-container-id-1 a.estimator_doc_link:hover {\n",
       "  /* unfitted */\n",
       "  background-color: var(--sklearn-color-unfitted-level-3);\n",
       "  color: var(--sklearn-color-background);\n",
       "  text-decoration: none;\n",
       "}\n",
       "\n",
       "#sk-container-id-1 a.estimator_doc_link.fitted:hover {\n",
       "  /* fitted */\n",
       "  background-color: var(--sklearn-color-fitted-level-3);\n",
       "}\n",
       "</style><div id=\"sk-container-id-1\" class=\"sk-top-container\"><div class=\"sk-text-repr-fallback\"><pre>MultinomialNB()</pre><b>In a Jupyter environment, please rerun this cell to show the HTML representation or trust the notebook. <br />On GitHub, the HTML representation is unable to render, please try loading this page with nbviewer.org.</b></div><div class=\"sk-container\" hidden><div class=\"sk-item\"><div class=\"sk-estimator fitted sk-toggleable\"><input class=\"sk-toggleable__control sk-hidden--visually\" id=\"sk-estimator-id-1\" type=\"checkbox\" checked><label for=\"sk-estimator-id-1\" class=\"sk-toggleable__label fitted sk-toggleable__label-arrow fitted\">&nbsp;&nbsp;MultinomialNB<a class=\"sk-estimator-doc-link fitted\" rel=\"noreferrer\" target=\"_blank\" href=\"https://scikit-learn.org/1.5/modules/generated/sklearn.naive_bayes.MultinomialNB.html\">?<span>Documentation for MultinomialNB</span></a><span class=\"sk-estimator-doc-link fitted\">i<span>Fitted</span></span></label><div class=\"sk-toggleable__content fitted\"><pre>MultinomialNB()</pre></div> </div></div></div></div>"
      ],
      "text/plain": [
       "MultinomialNB()"
      ]
     },
     "execution_count": 17,
     "metadata": {},
     "output_type": "execute_result"
    }
   ],
   "source": [
    "cnb.fit(Xtrain, ytrain)\n",
    "mnb.fit(Xtrain, ytrain)"
   ]
  },
  {
   "cell_type": "code",
   "execution_count": 18,
   "metadata": {},
   "outputs": [],
   "source": [
    "y_pred_cnb = cnb.predict(Xval)\n",
    "accuracy_cnb = accuracy_score(yval, y_pred_cnb)\n",
    "\n",
    "y_pred_mnb = mnb.predict(Xval)\n",
    "accuracy_mnb = accuracy_score(yval, y_pred_mnb)"
   ]
  },
  {
   "cell_type": "code",
   "execution_count": 19,
   "metadata": {},
   "outputs": [
    {
     "name": "stdout",
     "output_type": "stream",
     "text": [
      "Validation data accuracy score for cnb:  0.92083\n",
      "Validation data accuracy score for mnb:  0.93958\n"
     ]
    }
   ],
   "source": [
    "print(\"Validation data accuracy score for cnb: \", round(accuracy_cnb, 5))\n",
    "print(\"Validation data accuracy score for mnb: \", round(accuracy_mnb, 5))"
   ]
  },
  {
   "cell_type": "code",
   "execution_count": 20,
   "metadata": {},
   "outputs": [],
   "source": [
    "from sklearn.preprocessing import Binarizer"
   ]
  },
  {
   "cell_type": "code",
   "execution_count": 21,
   "metadata": {},
   "outputs": [],
   "source": [
    "accuracy_binarized = 0 \n",
    "threshold_binarized = 0\n",
    "\n",
    "# accuracies_binarized = []\n",
    "\n",
    "for threshold in range(256):\n",
    "    binarizer = Binarizer(threshold=threshold)\n",
    "\n",
    "    Xtrain_binarized = binarizer.fit_transform(Xtrain)\n",
    "    Xval_binarized = binarizer.transform(Xval)\n",
    "\n",
    "    bnb_binarized = BernoulliNB()\n",
    "    bnb_binarized.fit(Xtrain_binarized, ytrain)\n",
    "\n",
    "    y_pred_bnb_binarized = bnb_binarized.predict(Xval_binarized)\n",
    "\n",
    "    accuracy_bnb = accuracy_score(yval, y_pred_bnb_binarized)\n",
    "    # accuracies_binarized.append(accuracy_bnb)\n",
    "\n",
    "    if accuracy_bnb > accuracy_binarized:\n",
    "        accuracy_binarized = accuracy_bnb\n",
    "        threshold_binarized = threshold"
   ]
  },
  {
   "cell_type": "code",
   "execution_count": 22,
   "metadata": {},
   "outputs": [
    {
     "name": "stdout",
     "output_type": "stream",
     "text": [
      "Best binarized BNB validation data accuracy score:  0.9625\n",
      "Best threshold for binarization:  40\n"
     ]
    }
   ],
   "source": [
    "print(\"Best binarized BNB validation data accuracy score: \", accuracy_binarized)\n",
    "print(\"Best threshold for binarization: \", threshold_binarized)"
   ]
  },
  {
   "cell_type": "markdown",
   "metadata": {},
   "source": [
    "Binarizing data improved predictions because it simplified pixel intensity values into binary (0 or 1), aligning with BernoulliNB's assumption of binary features. This reduced noise, emphasized key patterns, and helped the model better distinguish between classes."
   ]
  },
  {
   "cell_type": "markdown",
   "metadata": {},
   "source": [
    "### **Linear Discriminant Analysis (LDA)**"
   ]
  },
  {
   "cell_type": "markdown",
   "metadata": {},
   "source": [
    "LDA is suitable for datasets where classes are linearly separable. It reduces dimensionality while maximizing class separability, making it effective for structured datasets. However, for raw or high-dimensional image data, LDA may struggle compared to SVM unless preprocessing like PCA is applied to reduce dimensions first (which I will do next)."
   ]
  },
  {
   "cell_type": "code",
   "execution_count": 23,
   "metadata": {},
   "outputs": [],
   "source": [
    "from sklearn.discriminant_analysis import LinearDiscriminantAnalysis"
   ]
  },
  {
   "cell_type": "markdown",
   "metadata": {},
   "source": [
    "For a dataset of 28x28 pixel images, the `svd` solver is typically the best choice for LDA because it handles high-dimensional data efficiently without explicitly computing the covariance matrix. This makes it computationally faster and more stable, especially when the number of features (784) exceeds the number of samples. Other solvers like `lsqr` or `eigen` are less suited for such high-dimensional datasets, as they rely on covariance matrix computation, which is both time-consuming and prone to numerical instability.\n",
    "So i will only use basic LDA solver (svd)."
   ]
  },
  {
   "cell_type": "code",
   "execution_count": 24,
   "metadata": {},
   "outputs": [],
   "source": [
    "lda = LinearDiscriminantAnalysis()\n",
    "\n",
    "# Fit LDA on the training data\n",
    "lda.fit(Xtrain, ytrain)\n",
    "\n",
    "# Predict on the training set\n",
    "y_train_pred_lda = lda.predict(Xtrain)\n",
    "train_accuracy_lda = accuracy_score(ytrain, y_train_pred_lda)\n",
    "\n",
    "# Predict on the validation set\n",
    "y_val_pred_lda = lda.predict(Xval)\n",
    "val_accuracy_lda = accuracy_score(yval, y_val_pred_lda)"
   ]
  },
  {
   "cell_type": "code",
   "execution_count": 25,
   "metadata": {},
   "outputs": [
    {
     "name": "stdout",
     "output_type": "stream",
     "text": [
      "Training data accuracy score (LDA):  0.99306\n",
      "Validation data accuracy score (LDA):   0.92292\n"
     ]
    }
   ],
   "source": [
    "print(\"Training data accuracy score (LDA): \", round(train_accuracy_lda, 5))\n",
    "print(\"Validation data accuracy score (LDA):  \", round(val_accuracy_lda, 5))"
   ]
  },
  {
   "cell_type": "markdown",
   "metadata": {},
   "source": [
    "### **PCA**"
   ]
  },
  {
   "cell_type": "markdown",
   "metadata": {},
   "source": [
    "**Principal component analysis (PCA)** is perhaps the most common dimensionality reduction method. It is a form of feature extraction, which means it combines and transforms the dataset’s original features to produce new features, called principal components. Essentially, PCA *selects a subset of variables* from a model that together comprise the majority or all of the variance present in the original set of variables. PCA then projects data onto a new space defined by this subset of variables."
   ]
  },
  {
   "cell_type": "code",
   "execution_count": 26,
   "metadata": {},
   "outputs": [],
   "source": [
    "from sklearn.decomposition import PCA"
   ]
  },
  {
   "cell_type": "markdown",
   "metadata": {},
   "source": [
    "##### **SVM**"
   ]
  },
  {
   "cell_type": "markdown",
   "metadata": {},
   "source": [
    "This code performs hyperparameter tuning for an SVM model combined with PCA. It iterates through different combinations of SVM parameters (`C`, `kernel`, `gamma`, `degree`) and PCA components (`n_components`). For each combination, it applies PCA for dimensionality reduction and trains the SVM on the transformed data. The best parameter set is selected based on the highest validation accuracy, optimizing the model's performance."
   ]
  },
  {
   "cell_type": "code",
   "execution_count": 27,
   "metadata": {},
   "outputs": [],
   "source": [
    "param_grid_svm_pca = {\n",
    "    'C': [0.1, 1, 10, 20],\n",
    "    'kernel': ['linear', 'rbf', 'poly'],\n",
    "    'gamma': [1e-3, 1e-2, 0.1, 1],\n",
    "    'degree': [2, 3, 5, 7],\n",
    "    'n_components': [10, 20, 50, 100]\n",
    "}\n",
    "\n",
    "param_comb_svm_pca = ParameterGrid(param_grid_svm_pca)\n",
    "\n",
    "best_score_pca_svm = 0\n",
    "best_n_components_pca_svm = 0\n",
    "best_params_pca_svm = {}\n",
    "\n",
    "for params in param_comb_svm_pca:\n",
    "    pca = PCA(n_components=params['n_components'])\n",
    "\n",
    "    Xtrain_pca_svm = pca.fit_transform(Xtrain_scaled)\n",
    "    Xval_pca_svm = pca.transform(Xval_scaled)\n",
    "    if params['kernel'] == 'poly':\n",
    "        svm = SVC(C=params['C'], kernel=params['kernel'], gamma=params['gamma'], degree=params['degree'])\n",
    "    else:\n",
    "        svm = SVC(C=params['C'], kernel=params['kernel'], gamma=params['gamma'])\n",
    "    svm.fit(Xtrain_pca_svm, ytrain)\n",
    "    current_score = accuracy_score(yval, svm.predict(Xval_pca_svm))\n",
    "\n",
    "    if current_score > best_score_pca_svm:\n",
    "        best_score_pca_svm = current_score\n",
    "        best_n_components_pca_svm = params['n_components']\n",
    "        best_params_pca_svm = params"
   ]
  },
  {
   "cell_type": "code",
   "execution_count": 28,
   "metadata": {},
   "outputs": [
    {
     "name": "stdout",
     "output_type": "stream",
     "text": [
      "Best PCA SVM validation data accuracy score:  0.98333\n",
      "Best PCA n_components for SVM:  50\n"
     ]
    }
   ],
   "source": [
    "print(\"Best PCA SVM validation data accuracy score: \", round(best_score_pca_svm, 5))\n",
    "print(\"Best PCA n_components for SVM: \", best_n_components_pca_svm)"
   ]
  },
  {
   "cell_type": "markdown",
   "metadata": {},
   "source": [
    "##### **Naive Bayes**"
   ]
  },
  {
   "cell_type": "markdown",
   "metadata": {},
   "source": [
    "This code performs PCA-based dimensionality reduction and tunes the number of components (`n_components`) for a Gaussian Naive Bayes model. It iterates over different values of `n_components`, applies PCA to reduce the features of the training and validation data, then trains the GaussianNB model on the transformed data. The best number of PCA components is selected based on the highest validation accuracy."
   ]
  },
  {
   "cell_type": "code",
   "execution_count": 29,
   "metadata": {},
   "outputs": [],
   "source": [
    "best_n_components_gnb = 0\n",
    "best_score_pca_gnb = 0\n",
    "\n",
    "n_components = [10, 20, 30, 50, 75, 100, 120]\n",
    "\n",
    "for n in n_components:\n",
    "    pca = PCA(n_components=n)\n",
    "\n",
    "    Xtrain_pca_gnb = pca.fit_transform(Xtrain)\n",
    "    Xval_pca_gnb = pca.fit_transform(Xval)\n",
    "\n",
    "    pca_gnb = GaussianNB()\n",
    "    pca_gnb.fit(Xtrain_pca_gnb, ytrain)\n",
    "\n",
    "    current_score = accuracy_score(yval, pca_gnb.predict(Xval_pca_gnb))\n",
    "\n",
    "    if current_score > best_score_pca_gnb:\n",
    "        best_score_pca_gnb = current_score\n",
    "        best_n_components_gnb = n      "
   ]
  },
  {
   "cell_type": "code",
   "execution_count": 30,
   "metadata": {},
   "outputs": [
    {
     "name": "stdout",
     "output_type": "stream",
     "text": [
      "Best PCA GaussianNb validation data accuracy score:  0.9375\n",
      "Best PCA n_components for GaussianNB:  20\n"
     ]
    }
   ],
   "source": [
    "print(\"Best PCA GaussianNb validation data accuracy score: \", round(best_score_pca_gnb, 5))\n",
    "print(\"Best PCA n_components for GaussianNB: \", best_n_components_gnb)  "
   ]
  },
  {
   "cell_type": "markdown",
   "metadata": {},
   "source": [
    "##### **LDA**"
   ]
  },
  {
   "cell_type": "markdown",
   "metadata": {},
   "source": [
    "This code performs PCA for dimensionality reduction and tunes the number of components (`n_components`) for a Linear Discriminant Analysis (LDA) model. It iterates through different values of `n_components`, applies PCA to the training and validation data, trains the LDA model, and selects the number of components that yields the highest validation accuracy."
   ]
  },
  {
   "cell_type": "code",
   "execution_count": 31,
   "metadata": {},
   "outputs": [],
   "source": [
    "best_score_pca_lda = 0\n",
    "best_n_components_lda = 0\n",
    "\n",
    "for n in n_components:\n",
    "    pca = PCA(n_components=n)\n",
    "\n",
    "    Xtrain_pca_lda = pca.fit_transform(Xtrain)\n",
    "    Xval_pca_lda = pca.fit_transform(Xval)\n",
    "\n",
    "    pca_lda = LinearDiscriminantAnalysis()\n",
    "    pca_lda.fit(Xtrain_pca_lda, ytrain)\n",
    "\n",
    "    current_score = accuracy_score(yval, pca_lda.predict(Xval_pca_lda))\n",
    "\n",
    "    if current_score > best_score_pca_lda:\n",
    "        best_score_pca_lda = current_score\n",
    "        best_n_components_lda = n"
   ]
  },
  {
   "cell_type": "code",
   "execution_count": 32,
   "metadata": {},
   "outputs": [
    {
     "name": "stdout",
     "output_type": "stream",
     "text": [
      "Best PCA LDA validation data accuracy score:  0.9375\n",
      "Best PCA n_components for LDA:  10\n"
     ]
    }
   ],
   "source": [
    "print(\"Best PCA LDA validation data accuracy score: \", round(best_score_pca_lda, 5))\n",
    "print(\"Best PCA n_components for LDA: \", best_n_components_lda) "
   ]
  },
  {
   "cell_type": "markdown",
   "metadata": {},
   "source": [
    "### **LLE**"
   ]
  },
  {
   "cell_type": "code",
   "execution_count": 33,
   "metadata": {},
   "outputs": [],
   "source": [
    "from sklearn.manifold import LocallyLinearEmbedding\n"
   ]
  },
  {
   "cell_type": "markdown",
   "metadata": {},
   "source": [
    "##### **SVM**"
   ]
  },
  {
   "cell_type": "code",
   "execution_count": 34,
   "metadata": {},
   "outputs": [],
   "source": [
    "param_grid_svm_lle = {\n",
    "    'C': [0.1, 1, 10, 20],\n",
    "    'kernel': ['linear', 'rbf'],\n",
    "    'gamma': [1e-3, 1e-2, 0.1, 1],\n",
    "    'n_components': [10, 30, 50, 100]\n",
    "}\n",
    "\n",
    "param_comb_svm_lle = ParameterGrid(param_grid_svm_lle)\n",
    "\n",
    "best_score_lle_svm = 0\n",
    "best_n_components_lle_svm = 0\n",
    "\n",
    "for params in param_comb_svm_lle:\n",
    "    lle = LocallyLinearEmbedding(n_components=params['n_components'], n_neighbors=10)\n",
    "    \n",
    "    Xtrain_lle = lle.fit_transform(Xtrain_scaled)\n",
    "    Xval_lle = lle.transform(Xval_scaled)\n",
    "    \n",
    "    svm = SVC(C=params['C'], kernel=params['kernel'], gamma=params['gamma'])\n",
    "    svm.fit(Xtrain_lle, ytrain)\n",
    "    \n",
    "    current_score = accuracy_score(yval, svm.predict(Xval_lle))\n",
    "    if current_score > best_score_lle_svm:\n",
    "        best_score_lle_svm = current_score\n",
    "        best_n_components_lle_svm = params['n_components']"
   ]
  },
  {
   "cell_type": "code",
   "execution_count": 35,
   "metadata": {},
   "outputs": [
    {
     "name": "stdout",
     "output_type": "stream",
     "text": [
      "Best LLE SVM validation data accuracy score:  0.96667\n",
      "Best LLE n_components for SVM:  30\n"
     ]
    }
   ],
   "source": [
    "print(\"Best LLE SVM validation data accuracy score: \", round(best_score_lle_svm, 5))\n",
    "print(\"Best LLE n_components for SVM: \", best_n_components_lle_svm)"
   ]
  },
  {
   "cell_type": "markdown",
   "metadata": {},
   "source": [
    "##### **Naive Bayes**"
   ]
  },
  {
   "cell_type": "code",
   "execution_count": 36,
   "metadata": {},
   "outputs": [],
   "source": [
    "best_n_components_lle_gnb = 0\n",
    "best_score_lle_gnb = 0\n",
    "\n",
    "n_components = [10, 20, 30, 50, 75, 100, 120]\n",
    "\n",
    "for n in n_components:\n",
    "    lle = LocallyLinearEmbedding(n_components=n)\n",
    "\n",
    "    Xtrain_lle_gnb = lle.fit_transform(Xtrain)\n",
    "    Xval_lle_gnb = lle.transform(Xval)\n",
    "\n",
    "    lle_gnb = GaussianNB()\n",
    "    lle_gnb.fit(Xtrain_lle_gnb, ytrain)\n",
    "\n",
    "    current_score = accuracy_score(yval, lle_gnb.predict(Xval_lle_gnb))\n",
    "\n",
    "    if current_score > best_score_lle_gnb:\n",
    "        best_score_lle_gnb = current_score\n",
    "        best_n_components_lle_gnb = n"
   ]
  },
  {
   "cell_type": "code",
   "execution_count": 37,
   "metadata": {},
   "outputs": [
    {
     "name": "stdout",
     "output_type": "stream",
     "text": [
      "Best LLE GaussianNb validation data accuracy score:  0.97708\n",
      "Best LLE n_components for GaussianNB:  10\n"
     ]
    }
   ],
   "source": [
    "print(\"Best LLE GaussianNb validation data accuracy score: \", round(best_score_lle_gnb, 5))\n",
    "print(\"Best LLE n_components for GaussianNB: \", best_n_components_lle_gnb)  "
   ]
  },
  {
   "cell_type": "markdown",
   "metadata": {},
   "source": [
    "##### **LDA**"
   ]
  },
  {
   "cell_type": "code",
   "execution_count": 38,
   "metadata": {},
   "outputs": [],
   "source": [
    "best_score_lle_lda = 0\n",
    "best_n_components_lle = 0\n",
    "\n",
    "for n in n_components:\n",
    "    lle = LocallyLinearEmbedding(n_components=n)\n",
    "\n",
    "    Xtrain_lle_lda = lle.fit_transform(Xtrain)\n",
    "    Xval_lle_lda = lle.transform(Xval)\n",
    "\n",
    "    lle_lda = LinearDiscriminantAnalysis()\n",
    "    lle_lda.fit(Xtrain_lle_lda, ytrain)\n",
    "\n",
    "    current_score = accuracy_score(yval, lle_lda.predict(Xval_lle_lda))\n",
    "\n",
    "    if current_score > best_score_lle_lda:\n",
    "        best_score_lle_lda = current_score\n",
    "        best_n_components_lle = n"
   ]
  },
  {
   "cell_type": "code",
   "execution_count": 39,
   "metadata": {},
   "outputs": [
    {
     "name": "stdout",
     "output_type": "stream",
     "text": [
      "Best LDA validation data accuracy score with LLE:  0.96875\n",
      "Best LLE n_components for LDA:  10\n"
     ]
    }
   ],
   "source": [
    "# Print the results\n",
    "print(\"Best LDA validation data accuracy score with LLE: \", best_score_lle_lda)\n",
    "print(\"Best LLE n_components for LDA: \", best_n_components_lle)"
   ]
  },
  {
   "cell_type": "markdown",
   "metadata": {},
   "source": [
    "### **Best model**"
   ]
  },
  {
   "cell_type": "markdown",
   "metadata": {},
   "source": [
    "Choosing the best model based on validation data accuracy score"
   ]
  },
  {
   "cell_type": "code",
   "execution_count": 40,
   "metadata": {},
   "outputs": [
    {
     "data": {
      "text/plain": [
       "{'C': 20, 'degree': 3, 'gamma': 1, 'kernel': 'poly', 'n_components': 50}"
      ]
     },
     "execution_count": 40,
     "metadata": {},
     "output_type": "execute_result"
    }
   ],
   "source": [
    "best_params = best_params_pca_svm\n",
    "best_params"
   ]
  },
  {
   "cell_type": "code",
   "execution_count": 41,
   "metadata": {},
   "outputs": [],
   "source": [
    "# Apply the best PCA model with the chosen number of components\n",
    "best_model_pca = PCA(n_components=best_params['n_components'])\n",
    "best_model_pca.fit(Xtrain_scaled)\n",
    "\n",
    "# Transform both the training and test data using the fitted PCA model\n",
    "Xtrain_best_model = best_model_pca.transform(Xtrain_scaled)\n",
    "Xtest_best_model = best_model_pca.transform(Xtest_scaled)"
   ]
  },
  {
   "cell_type": "code",
   "execution_count": 42,
   "metadata": {},
   "outputs": [],
   "source": [
    "# Remove 'n_components' from the best_params dictionary\n",
    "best_params1 = best_params\n",
    "best_params1.pop('n_components', None)\n",
    "\n",
    "# Use the best parameters for the SVM model\n",
    "best_model_pca_svm = SVC(**best_params1)\n",
    "\n",
    "# Fit the SVM model on the transformed training data\n",
    "best_model_pca_svm.fit(Xtrain_best_model, ytrain)\n",
    "\n",
    "# Evaluate the model's accuracy on the transformed test data\n",
    "test_accuracy_best_model = accuracy_score(ytest, best_model_pca_svm.predict(Xtest_best_model))"
   ]
  },
  {
   "cell_type": "code",
   "execution_count": 43,
   "metadata": {},
   "outputs": [
    {
     "name": "stdout",
     "output_type": "stream",
     "text": [
      "Test accuracy of the best PCA-SVM model:  0.96875\n"
     ]
    }
   ],
   "source": [
    "print(\"Test accuracy of the best PCA-SVM model: \", test_accuracy_best_model)"
   ]
  },
  {
   "cell_type": "code",
   "execution_count": 44,
   "metadata": {},
   "outputs": [],
   "source": [
    "evaluation_data = pd.read_csv('evaluate2023.csv')"
   ]
  },
  {
   "cell_type": "code",
   "execution_count": 45,
   "metadata": {},
   "outputs": [
    {
     "data": {
      "text/html": [
       "<div>\n",
       "<style scoped>\n",
       "    .dataframe tbody tr th:only-of-type {\n",
       "        vertical-align: middle;\n",
       "    }\n",
       "\n",
       "    .dataframe tbody tr th {\n",
       "        vertical-align: top;\n",
       "    }\n",
       "\n",
       "    .dataframe thead th {\n",
       "        text-align: right;\n",
       "    }\n",
       "</style>\n",
       "<table border=\"1\" class=\"dataframe\">\n",
       "  <thead>\n",
       "    <tr style=\"text-align: right;\">\n",
       "      <th></th>\n",
       "      <th>ID</th>\n",
       "      <th>pixel1</th>\n",
       "      <th>pixel2</th>\n",
       "      <th>pixel3</th>\n",
       "      <th>pixel4</th>\n",
       "      <th>pixel5</th>\n",
       "      <th>pixel6</th>\n",
       "      <th>pixel7</th>\n",
       "      <th>pixel8</th>\n",
       "      <th>pixel9</th>\n",
       "      <th>...</th>\n",
       "      <th>pixel775</th>\n",
       "      <th>pixel776</th>\n",
       "      <th>pixel777</th>\n",
       "      <th>pixel778</th>\n",
       "      <th>pixel779</th>\n",
       "      <th>pixel780</th>\n",
       "      <th>pixel781</th>\n",
       "      <th>pixel782</th>\n",
       "      <th>pixel783</th>\n",
       "      <th>pixel784</th>\n",
       "    </tr>\n",
       "  </thead>\n",
       "  <tbody>\n",
       "    <tr>\n",
       "      <th>count</th>\n",
       "      <td>9600.000000</td>\n",
       "      <td>9600.000000</td>\n",
       "      <td>9600.000000</td>\n",
       "      <td>9600.000000</td>\n",
       "      <td>9600.000000</td>\n",
       "      <td>9600.000000</td>\n",
       "      <td>9600.000000</td>\n",
       "      <td>9600.000000</td>\n",
       "      <td>9600.000000</td>\n",
       "      <td>9600.000000</td>\n",
       "      <td>...</td>\n",
       "      <td>9600.000000</td>\n",
       "      <td>9600.000000</td>\n",
       "      <td>9600.000000</td>\n",
       "      <td>9600.000000</td>\n",
       "      <td>9600.000000</td>\n",
       "      <td>9600.000000</td>\n",
       "      <td>9600.000000</td>\n",
       "      <td>9600.000000</td>\n",
       "      <td>9600.000000</td>\n",
       "      <td>9600.000000</td>\n",
       "    </tr>\n",
       "    <tr>\n",
       "      <th>mean</th>\n",
       "      <td>4799.500000</td>\n",
       "      <td>0.001667</td>\n",
       "      <td>0.001875</td>\n",
       "      <td>0.002604</td>\n",
       "      <td>0.007188</td>\n",
       "      <td>0.164271</td>\n",
       "      <td>0.403125</td>\n",
       "      <td>1.044687</td>\n",
       "      <td>2.590521</td>\n",
       "      <td>7.076354</td>\n",
       "      <td>...</td>\n",
       "      <td>65.327187</td>\n",
       "      <td>27.704792</td>\n",
       "      <td>10.220521</td>\n",
       "      <td>3.415417</td>\n",
       "      <td>1.504583</td>\n",
       "      <td>0.666042</td>\n",
       "      <td>0.183646</td>\n",
       "      <td>0.075104</td>\n",
       "      <td>0.029479</td>\n",
       "      <td>0.007500</td>\n",
       "    </tr>\n",
       "    <tr>\n",
       "      <th>std</th>\n",
       "      <td>2771.425626</td>\n",
       "      <td>0.163299</td>\n",
       "      <td>0.164568</td>\n",
       "      <td>0.174094</td>\n",
       "      <td>0.255883</td>\n",
       "      <td>2.650294</td>\n",
       "      <td>5.974822</td>\n",
       "      <td>10.133322</td>\n",
       "      <td>17.453677</td>\n",
       "      <td>27.827698</td>\n",
       "      <td>...</td>\n",
       "      <td>66.120584</td>\n",
       "      <td>50.256966</td>\n",
       "      <td>31.108111</td>\n",
       "      <td>17.749584</td>\n",
       "      <td>11.823659</td>\n",
       "      <td>7.301232</td>\n",
       "      <td>3.862455</td>\n",
       "      <td>2.562498</td>\n",
       "      <td>1.847805</td>\n",
       "      <td>0.555444</td>\n",
       "    </tr>\n",
       "    <tr>\n",
       "      <th>min</th>\n",
       "      <td>0.000000</td>\n",
       "      <td>0.000000</td>\n",
       "      <td>0.000000</td>\n",
       "      <td>0.000000</td>\n",
       "      <td>0.000000</td>\n",
       "      <td>0.000000</td>\n",
       "      <td>0.000000</td>\n",
       "      <td>0.000000</td>\n",
       "      <td>0.000000</td>\n",
       "      <td>0.000000</td>\n",
       "      <td>...</td>\n",
       "      <td>0.000000</td>\n",
       "      <td>0.000000</td>\n",
       "      <td>0.000000</td>\n",
       "      <td>0.000000</td>\n",
       "      <td>0.000000</td>\n",
       "      <td>0.000000</td>\n",
       "      <td>0.000000</td>\n",
       "      <td>0.000000</td>\n",
       "      <td>0.000000</td>\n",
       "      <td>0.000000</td>\n",
       "    </tr>\n",
       "    <tr>\n",
       "      <th>25%</th>\n",
       "      <td>2399.750000</td>\n",
       "      <td>0.000000</td>\n",
       "      <td>0.000000</td>\n",
       "      <td>0.000000</td>\n",
       "      <td>0.000000</td>\n",
       "      <td>0.000000</td>\n",
       "      <td>0.000000</td>\n",
       "      <td>0.000000</td>\n",
       "      <td>0.000000</td>\n",
       "      <td>0.000000</td>\n",
       "      <td>...</td>\n",
       "      <td>0.000000</td>\n",
       "      <td>0.000000</td>\n",
       "      <td>0.000000</td>\n",
       "      <td>0.000000</td>\n",
       "      <td>0.000000</td>\n",
       "      <td>0.000000</td>\n",
       "      <td>0.000000</td>\n",
       "      <td>0.000000</td>\n",
       "      <td>0.000000</td>\n",
       "      <td>0.000000</td>\n",
       "    </tr>\n",
       "    <tr>\n",
       "      <th>50%</th>\n",
       "      <td>4799.500000</td>\n",
       "      <td>0.000000</td>\n",
       "      <td>0.000000</td>\n",
       "      <td>0.000000</td>\n",
       "      <td>0.000000</td>\n",
       "      <td>0.000000</td>\n",
       "      <td>0.000000</td>\n",
       "      <td>0.000000</td>\n",
       "      <td>0.000000</td>\n",
       "      <td>0.000000</td>\n",
       "      <td>...</td>\n",
       "      <td>50.000000</td>\n",
       "      <td>0.000000</td>\n",
       "      <td>0.000000</td>\n",
       "      <td>0.000000</td>\n",
       "      <td>0.000000</td>\n",
       "      <td>0.000000</td>\n",
       "      <td>0.000000</td>\n",
       "      <td>0.000000</td>\n",
       "      <td>0.000000</td>\n",
       "      <td>0.000000</td>\n",
       "    </tr>\n",
       "    <tr>\n",
       "      <th>75%</th>\n",
       "      <td>7199.250000</td>\n",
       "      <td>0.000000</td>\n",
       "      <td>0.000000</td>\n",
       "      <td>0.000000</td>\n",
       "      <td>0.000000</td>\n",
       "      <td>0.000000</td>\n",
       "      <td>0.000000</td>\n",
       "      <td>0.000000</td>\n",
       "      <td>0.000000</td>\n",
       "      <td>0.000000</td>\n",
       "      <td>...</td>\n",
       "      <td>116.000000</td>\n",
       "      <td>36.000000</td>\n",
       "      <td>0.000000</td>\n",
       "      <td>0.000000</td>\n",
       "      <td>0.000000</td>\n",
       "      <td>0.000000</td>\n",
       "      <td>0.000000</td>\n",
       "      <td>0.000000</td>\n",
       "      <td>0.000000</td>\n",
       "      <td>0.000000</td>\n",
       "    </tr>\n",
       "    <tr>\n",
       "      <th>max</th>\n",
       "      <td>9599.000000</td>\n",
       "      <td>16.000000</td>\n",
       "      <td>16.000000</td>\n",
       "      <td>16.000000</td>\n",
       "      <td>16.000000</td>\n",
       "      <td>133.000000</td>\n",
       "      <td>202.000000</td>\n",
       "      <td>213.000000</td>\n",
       "      <td>255.000000</td>\n",
       "      <td>237.000000</td>\n",
       "      <td>...</td>\n",
       "      <td>255.000000</td>\n",
       "      <td>255.000000</td>\n",
       "      <td>255.000000</td>\n",
       "      <td>244.000000</td>\n",
       "      <td>215.000000</td>\n",
       "      <td>191.000000</td>\n",
       "      <td>154.000000</td>\n",
       "      <td>151.000000</td>\n",
       "      <td>172.000000</td>\n",
       "      <td>53.000000</td>\n",
       "    </tr>\n",
       "  </tbody>\n",
       "</table>\n",
       "<p>8 rows × 785 columns</p>\n",
       "</div>"
      ],
      "text/plain": [
       "                ID       pixel1       pixel2       pixel3       pixel4  \\\n",
       "count  9600.000000  9600.000000  9600.000000  9600.000000  9600.000000   \n",
       "mean   4799.500000     0.001667     0.001875     0.002604     0.007188   \n",
       "std    2771.425626     0.163299     0.164568     0.174094     0.255883   \n",
       "min       0.000000     0.000000     0.000000     0.000000     0.000000   \n",
       "25%    2399.750000     0.000000     0.000000     0.000000     0.000000   \n",
       "50%    4799.500000     0.000000     0.000000     0.000000     0.000000   \n",
       "75%    7199.250000     0.000000     0.000000     0.000000     0.000000   \n",
       "max    9599.000000    16.000000    16.000000    16.000000    16.000000   \n",
       "\n",
       "            pixel5       pixel6       pixel7       pixel8       pixel9  ...  \\\n",
       "count  9600.000000  9600.000000  9600.000000  9600.000000  9600.000000  ...   \n",
       "mean      0.164271     0.403125     1.044687     2.590521     7.076354  ...   \n",
       "std       2.650294     5.974822    10.133322    17.453677    27.827698  ...   \n",
       "min       0.000000     0.000000     0.000000     0.000000     0.000000  ...   \n",
       "25%       0.000000     0.000000     0.000000     0.000000     0.000000  ...   \n",
       "50%       0.000000     0.000000     0.000000     0.000000     0.000000  ...   \n",
       "75%       0.000000     0.000000     0.000000     0.000000     0.000000  ...   \n",
       "max     133.000000   202.000000   213.000000   255.000000   237.000000  ...   \n",
       "\n",
       "          pixel775     pixel776     pixel777     pixel778     pixel779  \\\n",
       "count  9600.000000  9600.000000  9600.000000  9600.000000  9600.000000   \n",
       "mean     65.327187    27.704792    10.220521     3.415417     1.504583   \n",
       "std      66.120584    50.256966    31.108111    17.749584    11.823659   \n",
       "min       0.000000     0.000000     0.000000     0.000000     0.000000   \n",
       "25%       0.000000     0.000000     0.000000     0.000000     0.000000   \n",
       "50%      50.000000     0.000000     0.000000     0.000000     0.000000   \n",
       "75%     116.000000    36.000000     0.000000     0.000000     0.000000   \n",
       "max     255.000000   255.000000   255.000000   244.000000   215.000000   \n",
       "\n",
       "          pixel780     pixel781     pixel782     pixel783     pixel784  \n",
       "count  9600.000000  9600.000000  9600.000000  9600.000000  9600.000000  \n",
       "mean      0.666042     0.183646     0.075104     0.029479     0.007500  \n",
       "std       7.301232     3.862455     2.562498     1.847805     0.555444  \n",
       "min       0.000000     0.000000     0.000000     0.000000     0.000000  \n",
       "25%       0.000000     0.000000     0.000000     0.000000     0.000000  \n",
       "50%       0.000000     0.000000     0.000000     0.000000     0.000000  \n",
       "75%       0.000000     0.000000     0.000000     0.000000     0.000000  \n",
       "max     191.000000   154.000000   151.000000   172.000000    53.000000  \n",
       "\n",
       "[8 rows x 785 columns]"
      ]
     },
     "execution_count": 45,
     "metadata": {},
     "output_type": "execute_result"
    }
   ],
   "source": [
    "evaluation_data.describe()"
   ]
  },
  {
   "cell_type": "code",
   "execution_count": 46,
   "metadata": {},
   "outputs": [],
   "source": [
    "X_evaluation = evaluation_data.drop('ID', axis=1)"
   ]
  },
  {
   "cell_type": "code",
   "execution_count": 47,
   "metadata": {},
   "outputs": [
    {
     "data": {
      "image/png": "[encoded data removed]",
      "text/plain": [
       "<Figure size 1500x1000 with 30 Axes>"
      ]
     },
     "metadata": {},
     "output_type": "display_data"
    }
   ],
   "source": [
    "images_to_display = 30\n",
    "fig, axes = plt.subplots(1, images_to_display, figsize=(15, 10))\n",
    "\n",
    "# Loop through and plot each image\n",
    "for i in range(images_to_display):\n",
    "    image_data = X_evaluation.iloc[i].values\n",
    "    image = image_data.reshape(28, 28)\n",
    "    \n",
    "    axes[i].imshow(image, cmap='gray')  # Plot the image\n",
    "    axes[i].axis('off')"
   ]
  },
  {
   "cell_type": "code",
   "execution_count": 48,
   "metadata": {},
   "outputs": [
    {
     "name": "stderr",
     "output_type": "stream",
     "text": [
      "C:\\Users\\maryt\\AppData\\Local\\Packages\\PythonSoftwareFoundation.Python.3.12_qbz5n2kfra8p0\\LocalCache\\local-packages\\Python312\\site-packages\\sklearn\\base.py:486: UserWarning: X has feature names, but StandardScaler was fitted without feature names\n",
      "  warnings.warn(\n"
     ]
    }
   ],
   "source": [
    "X_evaluation_scaled = scaler.transform(X_evaluation)"
   ]
  },
  {
   "cell_type": "code",
   "execution_count": 49,
   "metadata": {},
   "outputs": [],
   "source": [
    "X_evaluation_pca = best_model_pca.transform(X_evaluation_scaled)"
   ]
  },
  {
   "cell_type": "code",
   "execution_count": 50,
   "metadata": {},
   "outputs": [],
   "source": [
    "y_pred_evaluation = best_model_pca_svm.predict(X_evaluation_pca)"
   ]
  },
  {
   "cell_type": "code",
   "execution_count": 51,
   "metadata": {},
   "outputs": [],
   "source": [
    "results = pd.DataFrame({\n",
    "    'ID': evaluation_data['ID'],\n",
    "    'label': y_pred_evaluation\n",
    "})\n",
    "\n",
    "results.to_csv('results2023.csv', index=False)"
   ]
  }
 ],
 "metadata": {
  "kernelspec": {
   "display_name": "Python 3",
   "language": "python",
   "name": "python3"
  },
  "language_info": {
   "codemirror_mode": {
    "name": "ipython",
    "version": 3
   },
   "file_extension": ".py",
   "mimetype": "text/x-python",
   "name": "python",
   "nbconvert_exporter": "python",
   "pygments_lexer": "ipython3",
   "version": "3.12.8"
  }
 },
 "nbformat": 4,
 "nbformat_minor": 4
}
